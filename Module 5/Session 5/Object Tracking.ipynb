{
 "cells": [
  {
   "cell_type": "markdown",
   "id": "1b74bbf7",
   "metadata": {},
   "source": [
    "## Importing necessary libraries"
   ]
  },
  {
   "cell_type": "code",
   "execution_count": 1,
   "id": "c89b8188",
   "metadata": {},
   "outputs": [],
   "source": [
    "import numpy as np\n",
    "import cv2\n",
    "\n",
    "# For ML model \n",
    "import mediapipe as mp\n",
    "import tensorflow as tf\n",
    "from tensorflow import keras\n",
    "from tensorflow.keras.models import load_model"
   ]
  },
  {
   "cell_type": "markdown",
   "id": "fac17fe2",
   "metadata": {},
   "source": [
    "## Model Initialization"
   ]
  },
  {
   "cell_type": "code",
   "execution_count": 2,
   "id": "ae456541",
   "metadata": {},
   "outputs": [],
   "source": [
    "# Initializing Mediapipe\n",
    "mpHands = mp.solutions.hands\n",
    "hands = mpHands.Hands(max_num_hands=1, min_detection_confidence=0.7)\n",
    "mp_Draw = mp.solutions.drawing_utils"
   ]
  },
  {
   "cell_type": "markdown",
   "id": "43373b28",
   "metadata": {},
   "source": [
    "## Import models and classes"
   ]
  },
  {
   "cell_type": "code",
   "execution_count": 3,
   "id": "41a6d4aa",
   "metadata": {},
   "outputs": [
    {
     "name": "stdout",
     "output_type": "stream",
     "text": [
      "['okay', 'peace', 'thumbs up', 'thumbs down', 'call me', 'stop', 'rock', 'live long', 'fist', 'smile']\n"
     ]
    }
   ],
   "source": [
    "# Loading the  gesture Control Model\n",
    "model = load_model(\"mp_hand_gesture\")\n",
    "\n",
    "#Load class names\n",
    "f = open('gesture.names' , 'r')\n",
    "classNames = f.read().split('\\n')\n",
    "f.close()\n",
    "print(classNames)"
   ]
  },
  {
   "cell_type": "markdown",
   "id": "65e349ca",
   "metadata": {},
   "source": [
    "### Reading frames from webcam"
   ]
  },
  {
   "cell_type": "code",
   "execution_count": 4,
   "id": "6c67a6d3",
   "metadata": {},
   "outputs": [
    {
     "ename": "NameError",
     "evalue": "name 'mpDraw' is not defined",
     "output_type": "error",
     "traceback": [
      "\u001b[1;31m---------------------------------------------------------------------------\u001b[0m",
      "\u001b[1;31mNameError\u001b[0m                                 Traceback (most recent call last)",
      "Cell \u001b[1;32mIn[4], line 29\u001b[0m\n\u001b[0;32m     26\u001b[0m     landmarks\u001b[38;5;241m.\u001b[39mappend([lm_x, lm_y])\n\u001b[0;32m     28\u001b[0m \u001b[38;5;66;03m# Draw landmarks on the frame\u001b[39;00m\n\u001b[1;32m---> 29\u001b[0m \u001b[43mmpDraw\u001b[49m\u001b[38;5;241m.\u001b[39mdraw_landmarks(frame, hand_landmarks, mpHands\u001b[38;5;241m.\u001b[39mHAND_CONNECTIONS)\n\u001b[0;32m     31\u001b[0m \u001b[38;5;66;03m# Predict gesture \u001b[39;00m\n\u001b[0;32m     32\u001b[0m prediction \u001b[38;5;241m=\u001b[39m model\u001b[38;5;241m.\u001b[39mpredict([landmarks])  \n",
      "\u001b[1;31mNameError\u001b[0m: name 'mpDraw' is not defined"
     ]
    }
   ],
   "source": [
    "# Initialize webcam for hand gestures\n",
    "cap = cv2.VideoCapture(0)\n",
    "while True:\n",
    "    # Read each frame\n",
    "    _, frame = cap.read()\n",
    "    \n",
    "    # Get frame dimensions\n",
    "    x, y, c = frame.shape\n",
    "    \n",
    "    # Flip the frame vertically\n",
    "    frame = cv2.flip(frame, 1)\n",
    "    frame_rgb = cv2.cvtColor(frame, cv2.COLOR_BGR2RGB)\n",
    "    \n",
    "    # Get hand landmarks prediction\n",
    "    result = hands.process(frame_rgb)\n",
    "    \n",
    "    className = ''\n",
    "    \n",
    "    # Post process the result\n",
    "    if result.multi_hand_landmarks:\n",
    "        landmarks = []\n",
    "        for hand_landmarks in result.multi_hand_landmarks:\n",
    "            for lm in hand_landmarks.landmark:\n",
    "                lm_x = int(lm.x * x)\n",
    "                lm_y = int(lm.y * y)\n",
    "                landmarks.append([lm_x, lm_y])\n",
    "            \n",
    "            # Draw landmarks on the frame\n",
    "            mpDraw.draw_landmarks(frame, hand_landmarks, mpHands.HAND_CONNECTIONS)\n",
    "            \n",
    "            # Predict gesture \n",
    "            prediction = model.predict([landmarks])  \n",
    "            classID = np.argmax(prediction)\n",
    "            className = classNames[classID]\n",
    "            \n",
    "            # Show the prediction on the frame\n",
    "            cv2.putText(frame, className, (10, 50), cv2.FONT_HERSHEY_SIMPLEX, \n",
    "                        1, (0, 0, 255), 2, cv2.LINE_AA)\n",
    "    \n",
    "    # Show the final output\n",
    "    cv2.imshow(\"Output\", frame)\n",
    "    \n",
    "    # Press 'q' to exit the window\n",
    "    if cv2.waitKey(1) == ord('q'):\n",
    "        break\n",
    "\n",
    "# Release the webcam and destroy all active windows\n",
    "cap.release()\n",
    "cv2.destroyAllWindows()"
   ]
  },
  {
   "cell_type": "code",
   "execution_count": null,
   "id": "a835e274",
   "metadata": {},
   "outputs": [],
   "source": []
  },
  {
   "cell_type": "code",
   "execution_count": null,
   "id": "08654320",
   "metadata": {},
   "outputs": [],
   "source": []
  },
  {
   "cell_type": "code",
   "execution_count": null,
   "id": "18e4fe48",
   "metadata": {},
   "outputs": [],
   "source": []
  },
  {
   "cell_type": "code",
   "execution_count": null,
   "id": "4902c5b8",
   "metadata": {},
   "outputs": [],
   "source": []
  },
  {
   "cell_type": "code",
   "execution_count": null,
   "id": "7dbe7566",
   "metadata": {},
   "outputs": [],
   "source": []
  },
  {
   "cell_type": "code",
   "execution_count": null,
   "id": "5c405458",
   "metadata": {},
   "outputs": [],
   "source": []
  },
  {
   "cell_type": "code",
   "execution_count": null,
   "id": "e371c5a2",
   "metadata": {},
   "outputs": [],
   "source": []
  },
  {
   "cell_type": "code",
   "execution_count": null,
   "id": "00b7b22e",
   "metadata": {},
   "outputs": [],
   "source": []
  },
  {
   "cell_type": "code",
   "execution_count": null,
   "id": "4cfc7d75",
   "metadata": {},
   "outputs": [],
   "source": []
  }
 ],
 "metadata": {
  "kernelspec": {
   "display_name": "Python 3 (ipykernel)",
   "language": "python",
   "name": "python3"
  },
  "language_info": {
   "codemirror_mode": {
    "name": "ipython",
    "version": 3
   },
   "file_extension": ".py",
   "mimetype": "text/x-python",
   "name": "python",
   "nbconvert_exporter": "python",
   "pygments_lexer": "ipython3",
   "version": "3.10.1"
  }
 },
 "nbformat": 4,
 "nbformat_minor": 5
}
